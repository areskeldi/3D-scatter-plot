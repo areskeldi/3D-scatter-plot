{
 "cells": [
  {
   "cell_type": "code",
   "execution_count": 2,
   "metadata": {},
   "outputs": [
    {
     "name": "stdout",
     "output_type": "stream",
     "text": [
      "Requirement already satisfied: numpy in c:\\users\\emilbekuuluy\\appdata\\local\\programs\\python\\python38-32\\lib\\site-packages (1.19.4)\n",
      "Collecting ipyvolume\n",
      "  Using cached ipyvolume-0.5.2-py2.py3-none-any.whl (2.9 MB)\n",
      "Requirement already satisfied: Pillow in c:\\users\\emilbekuuluy\\appdata\\local\\programs\\python\\python38-32\\lib\\site-packages (from ipyvolume) (8.0.1)\n",
      "Requirement already satisfied: traitlets in c:\\users\\emilbekuuluy\\appdata\\local\\programs\\python\\python38-32\\lib\\site-packages (from ipyvolume) (5.0.5)\n",
      "Requirement already satisfied: requests in c:\\users\\emilbekuuluy\\appdata\\local\\programs\\python\\python38-32\\lib\\site-packages (from ipyvolume) (2.25.0)\n",
      "Requirement already satisfied: numpy in c:\\users\\emilbekuuluy\\appdata\\local\\programs\\python\\python38-32\\lib\\site-packages (from ipyvolume) (1.19.4)\n",
      "Collecting ipywebrtc\n",
      "  Using cached ipywebrtc-0.5.0-py2.py3-none-any.whl (1.1 MB)\n",
      "Collecting ipywidgets>=7.5\n",
      "  Using cached ipywidgets-7.5.1-py2.py3-none-any.whl (121 kB)\n",
      "Requirement already satisfied: ipykernel>=4.5.1 in c:\\users\\emilbekuuluy\\appdata\\local\\programs\\python\\python38-32\\lib\\site-packages (from ipywidgets>=7.5->ipyvolume) (5.3.4)\n",
      "Requirement already satisfied: ipython>=4.0.0 in c:\\users\\emilbekuuluy\\appdata\\local\\programs\\python\\python38-32\\lib\\site-packages (from ipywidgets>=7.5->ipyvolume) (7.19.0)\n",
      "Requirement already satisfied: traitlets in c:\\users\\emilbekuuluy\\appdata\\local\\programs\\python\\python38-32\\lib\\site-packages (from ipyvolume) (5.0.5)\n",
      "Requirement already satisfied: nbformat>=4.2.0 in c:\\users\\emilbekuuluy\\appdata\\local\\programs\\python\\python38-32\\lib\\site-packages (from ipywidgets>=7.5->ipyvolume) (5.0.8)\n",
      "Requirement already satisfied: ipython>=4.0.0 in c:\\users\\emilbekuuluy\\appdata\\local\\programs\\python\\python38-32\\lib\\site-packages (from ipywidgets>=7.5->ipyvolume) (7.19.0)\n",
      "Requirement already satisfied: traitlets in c:\\users\\emilbekuuluy\\appdata\\local\\programs\\python\\python38-32\\lib\\site-packages (from ipyvolume) (5.0.5)\n",
      "Requirement already satisfied: jupyter-client in c:\\users\\emilbekuuluy\\appdata\\local\\programs\\python\\python38-32\\lib\\site-packages (from ipykernel>=4.5.1->ipywidgets>=7.5->ipyvolume) (6.1.7)\n",
      "Requirement already satisfied: tornado>=4.2 in c:\\users\\emilbekuuluy\\appdata\\local\\programs\\python\\python38-32\\lib\\site-packages (from ipykernel>=4.5.1->ipywidgets>=7.5->ipyvolume) (6.1)\n",
      "Requirement already satisfied: jedi>=0.10 in c:\\users\\emilbekuuluy\\appdata\\local\\programs\\python\\python38-32\\lib\\site-packages (from ipython>=4.0.0->ipywidgets>=7.5->ipyvolume) (0.17.2)\n",
      "Requirement already satisfied: pygments in c:\\users\\emilbekuuluy\\appdata\\local\\programs\\python\\python38-32\\lib\\site-packages (from ipython>=4.0.0->ipywidgets>=7.5->ipyvolume) (2.7.3)\n",
      "Requirement already satisfied: backcall in c:\\users\\emilbekuuluy\\appdata\\local\\programs\\python\\python38-32\\lib\\site-packages (from ipython>=4.0.0->ipywidgets>=7.5->ipyvolume) (0.2.0)\n",
      "Requirement already satisfied: decorator in c:\\users\\emilbekuuluy\\appdata\\local\\programs\\python\\python38-32\\lib\\site-packages (from ipython>=4.0.0->ipywidgets>=7.5->ipyvolume) (4.4.2)\n",
      "Requirement already satisfied: setuptools>=18.5 in c:\\users\\emilbekuuluy\\appdata\\local\\programs\\python\\python38-32\\lib\\site-packages (from ipython>=4.0.0->ipywidgets>=7.5->ipyvolume) (41.2.0)\n",
      "Requirement already satisfied: traitlets in c:\\users\\emilbekuuluy\\appdata\\local\\programs\\python\\python38-32\\lib\\site-packages (from ipyvolume) (5.0.5)\n",
      "Requirement already satisfied: prompt-toolkit!=3.0.0,!=3.0.1,<3.1.0,>=2.0.0 in c:\\users\\emilbekuuluy\\appdata\\local\\programs\\python\\python38-32\\lib\\site-packages (from ipython>=4.0.0->ipywidgets>=7.5->ipyvolume) (3.0.8)\n",
      "Requirement already satisfied: pickleshare in c:\\users\\emilbekuuluy\\appdata\\local\\programs\\python\\python38-32\\lib\\site-packages (from ipython>=4.0.0->ipywidgets>=7.5->ipyvolume) (0.7.5)\n",
      "Requirement already satisfied: colorama in c:\\users\\emilbekuuluy\\appdata\\roaming\\python\\python38\\site-packages (from ipython>=4.0.0->ipywidgets>=7.5->ipyvolume) (0.4.4)\n",
      "Requirement already satisfied: parso<0.8.0,>=0.7.0 in c:\\users\\emilbekuuluy\\appdata\\local\\programs\\python\\python38-32\\lib\\site-packages (from jedi>=0.10->ipython>=4.0.0->ipywidgets>=7.5->ipyvolume) (0.7.1)\n",
      "Requirement already satisfied: traitlets in c:\\users\\emilbekuuluy\\appdata\\local\\programs\\python\\python38-32\\lib\\site-packages (from ipyvolume) (5.0.5)\n",
      "Requirement already satisfied: tornado>=4.2 in c:\\users\\emilbekuuluy\\appdata\\local\\programs\\python\\python38-32\\lib\\site-packages (from ipykernel>=4.5.1->ipywidgets>=7.5->ipyvolume) (6.1)\n",
      "Requirement already satisfied: python-dateutil>=2.1 in c:\\users\\emilbekuuluy\\appdata\\local\\programs\\python\\python38-32\\lib\\site-packages (from jupyter-client->ipykernel>=4.5.1->ipywidgets>=7.5->ipyvolume) (2.8.1)\n",
      "Requirement already satisfied: pyzmq>=13 in c:\\users\\emilbekuuluy\\appdata\\local\\programs\\python\\python38-32\\lib\\site-packages (from jupyter-client->ipykernel>=4.5.1->ipywidgets>=7.5->ipyvolume) (20.0.0)\n",
      "Requirement already satisfied: jupyter-core>=4.6.0 in c:\\users\\emilbekuuluy\\appdata\\local\\programs\\python\\python38-32\\lib\\site-packages (from jupyter-client->ipykernel>=4.5.1->ipywidgets>=7.5->ipyvolume) (4.7.0)\n",
      "Requirement already satisfied: traitlets in c:\\users\\emilbekuuluy\\appdata\\local\\programs\\python\\python38-32\\lib\\site-packages (from ipyvolume) (5.0.5)\n",
      "Requirement already satisfied: pywin32>=1.0 in c:\\users\\emilbekuuluy\\appdata\\local\\programs\\python\\python38-32\\lib\\site-packages (from jupyter-core>=4.6.0->jupyter-client->ipykernel>=4.5.1->ipywidgets>=7.5->ipyvolume) (300)\n",
      "Requirement already satisfied: traitlets in c:\\users\\emilbekuuluy\\appdata\\local\\programs\\python\\python38-32\\lib\\site-packages (from ipyvolume) (5.0.5)\n",
      "Requirement already satisfied: jsonschema!=2.5.0,>=2.4 in c:\\users\\emilbekuuluy\\appdata\\local\\programs\\python\\python38-32\\lib\\site-packages (from nbformat>=4.2.0->ipywidgets>=7.5->ipyvolume) (3.2.0)\n",
      "Requirement already satisfied: jupyter-core>=4.6.0 in c:\\users\\emilbekuuluy\\appdata\\local\\programs\\python\\python38-32\\lib\\site-packages (from jupyter-client->ipykernel>=4.5.1->ipywidgets>=7.5->ipyvolume) (4.7.0)\n",
      "Requirement already satisfied: ipython-genutils in c:\\users\\emilbekuuluy\\appdata\\local\\programs\\python\\python38-32\\lib\\site-packages (from nbformat>=4.2.0->ipywidgets>=7.5->ipyvolume) (0.2.0)\n",
      "Requirement already satisfied: setuptools>=18.5 in c:\\users\\emilbekuuluy\\appdata\\local\\programs\\python\\python38-32\\lib\\site-packages (from ipython>=4.0.0->ipywidgets>=7.5->ipyvolume) (41.2.0)\n",
      "Requirement already satisfied: six>=1.11.0 in c:\\users\\emilbekuuluy\\appdata\\roaming\\python\\python38\\site-packages (from jsonschema!=2.5.0,>=2.4->nbformat>=4.2.0->ipywidgets>=7.5->ipyvolume) (1.15.0)\n",
      "Requirement already satisfied: attrs>=17.4.0 in c:\\users\\emilbekuuluy\\appdata\\local\\programs\\python\\python38-32\\lib\\site-packages (from jsonschema!=2.5.0,>=2.4->nbformat>=4.2.0->ipywidgets>=7.5->ipyvolume) (20.3.0)\n",
      "Requirement already satisfied: pyrsistent>=0.14.0 in c:\\users\\emilbekuuluy\\appdata\\local\\programs\\python\\python38-32\\lib\\site-packages (from jsonschema!=2.5.0,>=2.4->nbformat>=4.2.0->ipywidgets>=7.5->ipyvolume) (0.17.3)\n",
      "Requirement already satisfied: wcwidth in c:\\users\\emilbekuuluy\\appdata\\local\\programs\\python\\python38-32\\lib\\site-packages (from prompt-toolkit!=3.0.0,!=3.0.1,<3.1.0,>=2.0.0->ipython>=4.0.0->ipywidgets>=7.5->ipyvolume) (0.2.5)\n",
      "Requirement already satisfied: six>=1.11.0 in c:\\users\\emilbekuuluy\\appdata\\roaming\\python\\python38\\site-packages (from jsonschema!=2.5.0,>=2.4->nbformat>=4.2.0->ipywidgets>=7.5->ipyvolume) (1.15.0)\n",
      "Collecting pythreejs>=1.0.0\n",
      "  Using cached pythreejs-2.2.1-py2.py3-none-any.whl (3.3 MB)\n",
      "Requirement already satisfied: numpy in c:\\users\\emilbekuuluy\\appdata\\local\\programs\\python\\python38-32\\lib\\site-packages (from ipyvolume) (1.19.4)\n",
      "Collecting ipydatawidgets>=1.1.1\n",
      "  Using cached ipydatawidgets-4.1.0-py2.py3-none-any.whl (259 kB)\n",
      "Requirement already satisfied: six>=1.11.0 in c:\\users\\emilbekuuluy\\appdata\\roaming\\python\\python38\\site-packages (from jsonschema!=2.5.0,>=2.4->nbformat>=4.2.0->ipywidgets>=7.5->ipyvolume) (1.15.0)\n",
      "Requirement already satisfied: numpy in c:\\users\\emilbekuuluy\\appdata\\local\\programs\\python\\python38-32\\lib\\site-packages (from ipyvolume) (1.19.4)\n",
      "Requirement already satisfied: urllib3<1.27,>=1.21.1 in c:\\users\\emilbekuuluy\\appdata\\local\\programs\\python\\python38-32\\lib\\site-packages (from requests->ipyvolume) (1.26.2)\n",
      "Requirement already satisfied: certifi>=2017.4.17 in c:\\users\\emilbekuuluy\\appdata\\local\\programs\\python\\python38-32\\lib\\site-packages (from requests->ipyvolume) (2020.11.8)\n",
      "Requirement already satisfied: chardet<4,>=3.0.2 in c:\\users\\emilbekuuluy\\appdata\\local\\programs\\python\\python38-32\\lib\\site-packages (from requests->ipyvolume) (3.0.4)\n",
      "Requirement already satisfied: idna<3,>=2.5 in c:\\users\\emilbekuuluy\\appdata\\local\\programs\\python\\python38-32\\lib\\site-packages (from requests->ipyvolume) (2.10)\n",
      "Requirement already satisfied: ipython-genutils in c:\\users\\emilbekuuluy\\appdata\\local\\programs\\python\\python38-32\\lib\\site-packages (from nbformat>=4.2.0->ipywidgets>=7.5->ipyvolume) (0.2.0)\n",
      "Collecting traittypes\n",
      "  Using cached traittypes-0.2.1-py2.py3-none-any.whl (8.6 kB)\n",
      "Requirement already satisfied: traitlets in c:\\users\\emilbekuuluy\\appdata\\local\\programs\\python\\python38-32\\lib\\site-packages (from ipyvolume) (5.0.5)\n",
      "Collecting widgetsnbextension~=3.5.0\n",
      "  Using cached widgetsnbextension-3.5.1-py2.py3-none-any.whl (2.2 MB)\n",
      "Requirement already satisfied: notebook>=4.4.1 in c:\\users\\emilbekuuluy\\appdata\\local\\programs\\python\\python38-32\\lib\\site-packages (from widgetsnbextension~=3.5.0->ipywidgets>=7.5->ipyvolume) (6.1.5)\n",
      "Requirement already satisfied: nbformat>=4.2.0 in c:\\users\\emilbekuuluy\\appdata\\local\\programs\\python\\python38-32\\lib\\site-packages (from ipywidgets>=7.5->ipyvolume) (5.0.8)\n",
      "Requirement already satisfied: argon2-cffi in c:\\users\\emilbekuuluy\\appdata\\local\\programs\\python\\python38-32\\lib\\site-packages (from notebook>=4.4.1->widgetsnbextension~=3.5.0->ipywidgets>=7.5->ipyvolume) (20.1.0)\n",
      "Requirement already satisfied: traitlets in c:\\users\\emilbekuuluy\\appdata\\local\\programs\\python\\python38-32\\lib\\site-packages (from ipyvolume) (5.0.5)\n",
      "Requirement already satisfied: jupyter-client in c:\\users\\emilbekuuluy\\appdata\\local\\programs\\python\\python38-32\\lib\\site-packages (from ipykernel>=4.5.1->ipywidgets>=7.5->ipyvolume) (6.1.7)\n",
      "Requirement already satisfied: prometheus-client in c:\\users\\emilbekuuluy\\appdata\\local\\programs\\python\\python38-32\\lib\\site-packages (from notebook>=4.4.1->widgetsnbextension~=3.5.0->ipywidgets>=7.5->ipyvolume) (0.9.0)\n",
      "Requirement already satisfied: ipython-genutils in c:\\users\\emilbekuuluy\\appdata\\local\\programs\\python\\python38-32\\lib\\site-packages (from nbformat>=4.2.0->ipywidgets>=7.5->ipyvolume) (0.2.0)\n",
      "Requirement already satisfied: jupyter-core>=4.6.0 in c:\\users\\emilbekuuluy\\appdata\\local\\programs\\python\\python38-32\\lib\\site-packages (from jupyter-client->ipykernel>=4.5.1->ipywidgets>=7.5->ipyvolume) (4.7.0)\n",
      "Requirement already satisfied: nbconvert in c:\\users\\emilbekuuluy\\appdata\\local\\programs\\python\\python38-32\\lib\\site-packages (from notebook>=4.4.1->widgetsnbextension~=3.5.0->ipywidgets>=7.5->ipyvolume) (6.0.7)\n",
      "Requirement already satisfied: terminado>=0.8.3 in c:\\users\\emilbekuuluy\\appdata\\local\\programs\\python\\python38-32\\lib\\site-packages (from notebook>=4.4.1->widgetsnbextension~=3.5.0->ipywidgets>=7.5->ipyvolume) (0.9.1)\n",
      "Requirement already satisfied: tornado>=4.2 in c:\\users\\emilbekuuluy\\appdata\\local\\programs\\python\\python38-32\\lib\\site-packages (from ipykernel>=4.5.1->ipywidgets>=7.5->ipyvolume) (6.1)\n",
      "Requirement already satisfied: jinja2 in c:\\users\\emilbekuuluy\\appdata\\local\\programs\\python\\python38-32\\lib\\site-packages (from notebook>=4.4.1->widgetsnbextension~=3.5.0->ipywidgets>=7.5->ipyvolume) (2.11.2)\n",
      "Requirement already satisfied: Send2Trash in c:\\users\\emilbekuuluy\\appdata\\local\\programs\\python\\python38-32\\lib\\site-packages (from notebook>=4.4.1->widgetsnbextension~=3.5.0->ipywidgets>=7.5->ipyvolume) (1.5.0)\n",
      "Requirement already satisfied: pyzmq>=13 in c:\\users\\emilbekuuluy\\appdata\\local\\programs\\python\\python38-32\\lib\\site-packages (from jupyter-client->ipykernel>=4.5.1->ipywidgets>=7.5->ipyvolume) (20.0.0)\n",
      "Requirement already satisfied: ipykernel>=4.5.1 in c:\\users\\emilbekuuluy\\appdata\\local\\programs\\python\\python38-32\\lib\\site-packages (from ipywidgets>=7.5->ipyvolume) (5.3.4)\n",
      "Requirement already satisfied: six>=1.11.0 in c:\\users\\emilbekuuluy\\appdata\\roaming\\python\\python38\\site-packages (from jsonschema!=2.5.0,>=2.4->nbformat>=4.2.0->ipywidgets>=7.5->ipyvolume) (1.15.0)\n",
      "Requirement already satisfied: cffi>=1.0.0 in c:\\users\\emilbekuuluy\\appdata\\local\\programs\\python\\python38-32\\lib\\site-packages (from argon2-cffi->notebook>=4.4.1->widgetsnbextension~=3.5.0->ipywidgets>=7.5->ipyvolume) (1.14.4)\n",
      "Requirement already satisfied: pycparser in c:\\users\\emilbekuuluy\\appdata\\local\\programs\\python\\python38-32\\lib\\site-packages (from cffi>=1.0.0->argon2-cffi->notebook>=4.4.1->widgetsnbextension~=3.5.0->ipywidgets>=7.5->ipyvolume) (2.20)\n",
      "Requirement already satisfied: MarkupSafe>=0.23 in c:\\users\\emilbekuuluy\\appdata\\local\\programs\\python\\python38-32\\lib\\site-packages (from jinja2->notebook>=4.4.1->widgetsnbextension~=3.5.0->ipywidgets>=7.5->ipyvolume) (1.1.1)\n",
      "Requirement already satisfied: jupyter-core>=4.6.0 in c:\\users\\emilbekuuluy\\appdata\\local\\programs\\python\\python38-32\\lib\\site-packages (from jupyter-client->ipykernel>=4.5.1->ipywidgets>=7.5->ipyvolume) (4.7.0)\n",
      "Requirement already satisfied: testpath in c:\\users\\emilbekuuluy\\appdata\\local\\programs\\python\\python38-32\\lib\\site-packages (from nbconvert->notebook>=4.4.1->widgetsnbextension~=3.5.0->ipywidgets>=7.5->ipyvolume) (0.4.4)\n",
      "Requirement already satisfied: traitlets in c:\\users\\emilbekuuluy\\appdata\\local\\programs\\python\\python38-32\\lib\\site-packages (from ipyvolume) (5.0.5)\n",
      "Requirement already satisfied: bleach in c:\\users\\emilbekuuluy\\appdata\\local\\programs\\python\\python38-32\\lib\\site-packages (from nbconvert->notebook>=4.4.1->widgetsnbextension~=3.5.0->ipywidgets>=7.5->ipyvolume) (3.2.1)\n",
      "Requirement already satisfied: mistune<2,>=0.8.1 in c:\\users\\emilbekuuluy\\appdata\\local\\programs\\python\\python38-32\\lib\\site-packages (from nbconvert->notebook>=4.4.1->widgetsnbextension~=3.5.0->ipywidgets>=7.5->ipyvolume) (0.8.4)\n",
      "Requirement already satisfied: nbformat>=4.2.0 in c:\\users\\emilbekuuluy\\appdata\\local\\programs\\python\\python38-32\\lib\\site-packages (from ipywidgets>=7.5->ipyvolume) (5.0.8)\n",
      "Requirement already satisfied: nbclient<0.6.0,>=0.5.0 in c:\\users\\emilbekuuluy\\appdata\\local\\programs\\python\\python38-32\\lib\\site-packages (from nbconvert->notebook>=4.4.1->widgetsnbextension~=3.5.0->ipywidgets>=7.5->ipyvolume) (0.5.1)\n",
      "Requirement already satisfied: jinja2 in c:\\users\\emilbekuuluy\\appdata\\local\\programs\\python\\python38-32\\lib\\site-packages (from notebook>=4.4.1->widgetsnbextension~=3.5.0->ipywidgets>=7.5->ipyvolume) (2.11.2)\n",
      "Requirement already satisfied: pygments in c:\\users\\emilbekuuluy\\appdata\\local\\programs\\python\\python38-32\\lib\\site-packages (from ipython>=4.0.0->ipywidgets>=7.5->ipyvolume) (2.7.3)\n",
      "Requirement already satisfied: pandocfilters>=1.4.1 in c:\\users\\emilbekuuluy\\appdata\\local\\programs\\python\\python38-32\\lib\\site-packages (from nbconvert->notebook>=4.4.1->widgetsnbextension~=3.5.0->ipywidgets>=7.5->ipyvolume) (1.4.3)\n",
      "Requirement already satisfied: entrypoints>=0.2.2 in c:\\users\\emilbekuuluy\\appdata\\local\\programs\\python\\python38-32\\lib\\site-packages (from nbconvert->notebook>=4.4.1->widgetsnbextension~=3.5.0->ipywidgets>=7.5->ipyvolume) (0.3)\n",
      "Requirement already satisfied: jupyterlab-pygments in c:\\users\\emilbekuuluy\\appdata\\local\\programs\\python\\python38-32\\lib\\site-packages (from nbconvert->notebook>=4.4.1->widgetsnbextension~=3.5.0->ipywidgets>=7.5->ipyvolume) (0.1.2)\n",
      "Requirement already satisfied: defusedxml in c:\\users\\emilbekuuluy\\appdata\\local\\programs\\python\\python38-32\\lib\\site-packages (from nbconvert->notebook>=4.4.1->widgetsnbextension~=3.5.0->ipywidgets>=7.5->ipyvolume) (0.6.0)\n",
      "Requirement already satisfied: six>=1.11.0 in c:\\users\\emilbekuuluy\\appdata\\roaming\\python\\python38\\site-packages (from jsonschema!=2.5.0,>=2.4->nbformat>=4.2.0->ipywidgets>=7.5->ipyvolume) (1.15.0)\n",
      "Requirement already satisfied: webencodings in c:\\users\\emilbekuuluy\\appdata\\local\\programs\\python\\python38-32\\lib\\site-packages (from bleach->nbconvert->notebook>=4.4.1->widgetsnbextension~=3.5.0->ipywidgets>=7.5->ipyvolume) (0.5.1)\n",
      "Requirement already satisfied: packaging in c:\\users\\emilbekuuluy\\appdata\\local\\programs\\python\\python38-32\\lib\\site-packages (from bleach->nbconvert->notebook>=4.4.1->widgetsnbextension~=3.5.0->ipywidgets>=7.5->ipyvolume) (20.7)\n",
      "Requirement already satisfied: pygments in c:\\users\\emilbekuuluy\\appdata\\local\\programs\\python\\python38-32\\lib\\site-packages (from ipython>=4.0.0->ipywidgets>=7.5->ipyvolume) (2.7.3)\n",
      "Requirement already satisfied: nbformat>=4.2.0 in c:\\users\\emilbekuuluy\\appdata\\local\\programs\\python\\python38-32\\lib\\site-packages (from ipywidgets>=7.5->ipyvolume) (5.0.8)\n",
      "Requirement already satisfied: jupyter-client in c:\\users\\emilbekuuluy\\appdata\\local\\programs\\python\\python38-32\\lib\\site-packages (from ipykernel>=4.5.1->ipywidgets>=7.5->ipyvolume) (6.1.7)\n",
      "Requirement already satisfied: async-generator in c:\\users\\emilbekuuluy\\appdata\\local\\programs\\python\\python38-32\\lib\\site-packages (from nbclient<0.6.0,>=0.5.0->nbconvert->notebook>=4.4.1->widgetsnbextension~=3.5.0->ipywidgets>=7.5->ipyvolume) (1.10)\n",
      "Requirement already satisfied: traitlets in c:\\users\\emilbekuuluy\\appdata\\local\\programs\\python\\python38-32\\lib\\site-packages (from ipyvolume) (5.0.5)\n",
      "Requirement already satisfied: nest-asyncio in c:\\users\\emilbekuuluy\\appdata\\local\\programs\\python\\python38-32\\lib\\site-packages (from nbclient<0.6.0,>=0.5.0->nbconvert->notebook>=4.4.1->widgetsnbextension~=3.5.0->ipywidgets>=7.5->ipyvolume) (1.4.3)\n",
      "Requirement already satisfied: pyparsing>=2.0.2 in c:\\users\\emilbekuuluy\\appdata\\local\\programs\\python\\python38-32\\lib\\site-packages (from packaging->bleach->nbconvert->notebook>=4.4.1->widgetsnbextension~=3.5.0->ipywidgets>=7.5->ipyvolume) (2.4.7)\n",
      "Requirement already satisfied: pywinpty>=0.5 in c:\\users\\emilbekuuluy\\appdata\\local\\programs\\python\\python38-32\\lib\\site-packages (from terminado>=0.8.3->notebook>=4.4.1->widgetsnbextension~=3.5.0->ipywidgets>=7.5->ipyvolume) (0.5.7)\n",
      "Requirement already satisfied: tornado>=4.2 in c:\\users\\emilbekuuluy\\appdata\\local\\programs\\python\\python38-32\\lib\\site-packages (from ipykernel>=4.5.1->ipywidgets>=7.5->ipyvolume) (6.1)\n",
      "Installing collected packages: widgetsnbextension, traittypes, ipywidgets, ipydatawidgets, pythreejs, ipywebrtc, ipyvolume\n",
      "Successfully installed ipydatawidgets-4.1.0 ipyvolume-0.5.2 ipywebrtc-0.5.0 ipywidgets-7.5.1 pythreejs-2.2.1 traittypes-0.2.1 widgetsnbextension-3.5.1\n"
     ]
    }
   ],
   "source": [
    "import sys\n",
    "!{sys.executable} -m pip install numpy\n",
    "!{sys.executable} -m pip install ipyvolume"
   ]
  },
  {
   "cell_type": "code",
   "execution_count": 19,
   "metadata": {},
   "outputs": [
    {
     "data": {
      "application/vnd.jupyter.widget-view+json": {
       "model_id": "68c8167db9be42318adcce6944b24b0a",
       "version_major": 2,
       "version_minor": 0
      },
      "text/plain": [
       "VBox(children=(Figure(camera=PerspectiveCamera(fov=46.0, position=(0.0, 0.0, 2.0), projectionMatrix=(1.0, 0.0,…"
      ]
     },
     "metadata": {},
     "output_type": "display_data"
    },
    {
     "data": {
      "text/plain": [
       "-1"
      ]
     },
     "execution_count": 19,
     "metadata": {},
     "output_type": "execute_result"
    }
   ],
   "source": [
    "import ipyvolume as ipv\n",
    "import numpy as np\n",
    "import os\n",
    "\n",
    "N=1000\n",
    "x, y, z = np.random.normal(0,1,(3,N))\n",
    "\n",
    "fig = ipv.figure()\n",
    "scatter=ipv.scatter(x,y,z,marker='sphere')\n",
    "ipv.show()\n",
    "os.system('jupyter nbconvert --to html yourNotebook.ipynb')\n"
   ]
  },
  {
   "cell_type": "code",
   "execution_count": null,
   "metadata": {},
   "outputs": [],
   "source": []
  }
 ],
 "metadata": {
  "kernelspec": {
   "display_name": "Python 3",
   "language": "python",
   "name": "python3"
  },
  "language_info": {
   "codemirror_mode": {
    "name": "ipython",
    "version": 3
   },
   "file_extension": ".py",
   "mimetype": "text/x-python",
   "name": "python",
   "nbconvert_exporter": "python",
   "pygments_lexer": "ipython3",
   "version": "3.8.0"
  }
 },
 "nbformat": 4,
 "nbformat_minor": 4
}
